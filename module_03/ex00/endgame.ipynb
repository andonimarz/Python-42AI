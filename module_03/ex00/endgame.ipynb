{
  "nbformat": 4,
  "nbformat_minor": 0,
  "metadata": {
    "colab": {
      "provenance": [],
      "collapsed_sections": [
        "FGjfGmCWrFTR",
        "_Mz_VvzVt2Wd",
        "bAUBeFGd157K"
      ],
      "toc_visible": true
    },
    "kernelspec": {
      "name": "python3",
      "display_name": "Python 3"
    },
    "language_info": {
      "name": "python"
    },
    "accelerator": "GPU",
    "gpuClass": "standard"
  },
  "cells": [
    {
      "cell_type": "markdown",
      "source": [
        "# Paso 1. Preparando todo\n",
        "\n",
        "\n",
        "\n"
      ],
      "metadata": {
        "id": "AH1adTU5pVYx"
      }
    },
    {
      "cell_type": "markdown",
      "source": [
        "\n",
        "## 1.1. Vamos a instalar pysentimiento\n",
        "https://www.kaggle.com/datasets/kavita5/twitter-dataset-avengersendgame?resource=download"
      ],
      "metadata": {
        "id": "FGjfGmCWrFTR"
      }
    },
    {
      "cell_type": "code",
      "source": [
        "!pip install pysentimiento"
      ],
      "metadata": {
        "id": "a2cO1u2PqHn5"
      },
      "execution_count": null,
      "outputs": []
    },
    {
      "cell_type": "markdown",
      "source": [
        "## 1.2. Ahora vamos a importar create_analyzer, eligiendo \"sentiment\" para sentimiento y el idioma"
      ],
      "metadata": {
        "id": "OUkAD3H8rJ-h"
      }
    },
    {
      "cell_type": "code",
      "source": [
        "from pysentimiento import create_analyzer\n",
        "analyzer = create_analyzer(task=\"sentiment\", lang=\"en\")"
      ],
      "metadata": {
        "id": "mWnruoPsqYY6"
      },
      "execution_count": null,
      "outputs": []
    },
    {
      "cell_type": "markdown",
      "source": [
        "## 1.3. Test de create_analyzer"
      ],
      "metadata": {
        "id": "hi2RAOfGsFtF"
      }
    },
    {
      "cell_type": "code",
      "source": [
        "analyzer.predict(\"What a time to be alive\")\n",
        "# returns AnalyzerOutput(output=POS, probas={POS: 0.973, NEU: 0.025, NEG: 0.002})"
      ],
      "metadata": {
        "id": "xyhkOyhPs_xd"
      },
      "execution_count": null,
      "outputs": []
    },
    {
      "cell_type": "code",
      "source": [
        "analyzer.predict(\"This shit can't be real\")\n",
        "# returns AnalyzerOutput(output=NEG, probas={NEG: 0.937, NEU: 0.055, POS: 0.008})"
      ],
      "metadata": {
        "id": "FsYQPpsptM6X"
      },
      "execution_count": null,
      "outputs": []
    },
    {
      "cell_type": "code",
      "source": [
        "analyzer.predict(\"You piss me off\")\n",
        "# returns AnalyzerOutput(output=NEG, probas={NEG: 0.981, NEU: 0.013, POS: 0.006})"
      ],
      "metadata": {
        "id": "ULOeCJg-tPHi"
      },
      "execution_count": null,
      "outputs": []
    },
    {
      "cell_type": "code",
      "source": [
        "analyzer.predict(\"jejeje I don't trust you\")\n",
        "# returns AnalyzerOutput(output=NEG, probas={NEG: 0.971, NEU: 0.026, POS: 0.004})"
      ],
      "metadata": {
        "id": "yG7MjKUttQs4"
      },
      "execution_count": null,
      "outputs": []
    },
    {
      "cell_type": "markdown",
      "source": [
        "# Paso 2. Google Drive"
      ],
      "metadata": {
        "id": "_Mz_VvzVt2Wd"
      }
    },
    {
      "cell_type": "markdown",
      "source": [
        "## 2.1. Montando el drive"
      ],
      "metadata": {
        "id": "XUhQBo6muIV2"
      }
    },
    {
      "cell_type": "code",
      "source": [
        "from google.colab import drive\n",
        "drive.mount('/content/drive')"
      ],
      "metadata": {
        "id": "qFWlj5euuSgB"
      },
      "execution_count": null,
      "outputs": []
    },
    {
      "cell_type": "markdown",
      "source": [
        "# Paso 3. Trabajando con el csv de tweets"
      ],
      "metadata": {
        "id": "CfhJ9-nyv4Ej"
      }
    },
    {
      "cell_type": "markdown",
      "source": [
        "## 3.1. Para descargar el csv con todos los tweets acceder al siguiente enlace:\n",
        "https://www.kaggle.com/datasets/kavita5/twitter-dataset-avengersendgame?resource=download"
      ],
      "metadata": {
        "id": "_Ucyc0M5v-kd"
      }
    },
    {
      "cell_type": "markdown",
      "source": [
        "## 3.2. Importar el contenido del csv a un DataFrame"
      ],
      "metadata": {
        "id": "HZ9GhodZwZrv"
      }
    },
    {
      "cell_type": "code",
      "source": [
        "import pandas as pd\n",
        "\n",
        "file = pd.read_csv('/content/drive/MyDrive/Python_final_module/ex00/tweets.csv', encoding='ISO-8859-1')"
      ],
      "metadata": {
        "id": "f50b3BqKwg4I"
      },
      "execution_count": null,
      "outputs": []
    },
    {
      "cell_type": "markdown",
      "source": [
        "## 3.3. Mostrar el contenido del DataFrame"
      ],
      "metadata": {
        "id": "m-q39vWdzYxH"
      }
    },
    {
      "cell_type": "code",
      "source": [
        "file"
      ],
      "metadata": {
        "id": "hKRHIm9NyQ0u"
      },
      "execution_count": null,
      "outputs": []
    },
    {
      "cell_type": "markdown",
      "source": [
        "## 3.4. Mostrar una columna del DataFrame\n"
      ],
      "metadata": {
        "id": "EU0jL7Dp1TRW"
      }
    },
    {
      "cell_type": "code",
      "source": [
        "file['text']"
      ],
      "metadata": {
        "id": "SBD3gnybzqKI"
      },
      "execution_count": null,
      "outputs": []
    },
    {
      "cell_type": "markdown",
      "source": [
        "## 3.5. Guardar los tweets del df en una lista"
      ],
      "metadata": {
        "id": "sguIxcvc1qYD"
      }
    },
    {
      "cell_type": "code",
      "source": [
        "lst = []\n",
        "for value in file['text'].iteritems():\n",
        "  lst.append(value[1])\n",
        "print(lst)"
      ],
      "metadata": {
        "id": "PZ_GVcnR0Bnm"
      },
      "execution_count": null,
      "outputs": []
    },
    {
      "cell_type": "markdown",
      "source": [
        "# Paso 4. Cálculos a partir de los tweets"
      ],
      "metadata": {
        "id": "bAUBeFGd157K"
      }
    },
    {
      "cell_type": "markdown",
      "source": [
        "## 4.1. Filtrado de los tweets"
      ],
      "metadata": {
        "id": "3w2WRTUj4QQP"
      }
    },
    {
      "cell_type": "code",
      "source": [
        "filtered_lst = []\n",
        "for tweet in lst:\n",
        "  split_lst = tweet.split(' ')\n",
        "  new_lst = []\n",
        "  for word in split_lst:\n",
        "    if word != 'RT' and not word.startswith('@') \\\n",
        "    and not '#' in word and not word.startswith('https')\\\n",
        "    and not word.startswith('<'):\n",
        "      new_lst.append(word)\n",
        "  filtered_lst.append(' '.join(new_lst))\n"
      ],
      "metadata": {
        "id": "AtOSKoV4_-nA"
      },
      "execution_count": null,
      "outputs": []
    },
    {
      "cell_type": "code",
      "source": [
        "#     ======= Si no lo has hecho ya =======\n",
        "# from pysentimiento import create_analyzer\n",
        "#    analyzer = create_analyzer(task=\"sentiment\", lang=\"en\")"
      ],
      "metadata": {
        "id": "83tgeYcN2AIc"
      },
      "execution_count": null,
      "outputs": []
    },
    {
      "cell_type": "markdown",
      "source": [
        "## 4.2. Analizando los tweets"
      ],
      "metadata": {
        "id": "M7o8LzqgMeiW"
      }
    },
    {
      "cell_type": "markdown",
      "source": [
        "4.2.1. Pasamos la lista de tweets por el analyzer"
      ],
      "metadata": {
        "id": "wintMftiXkqt"
      }
    },
    {
      "cell_type": "code",
      "source": [
        "analyzed_lst = []\n",
        "for tweet in filtered_lst:\n",
        "  analyzed_lst.append(analyzer.predict(tweet))\n",
        "print(analyzed_lst)\n"
      ],
      "metadata": {
        "id": "nFh6Ct0U23_U"
      },
      "execution_count": null,
      "outputs": []
    },
    {
      "cell_type": "markdown",
      "source": [
        "### 4.2.2. Totales de los outputs"
      ],
      "metadata": {
        "id": "-Bg37vUsXRls"
      }
    },
    {
      "cell_type": "code",
      "source": [
        "def getFromOutput():\n",
        "  neg = 0\n",
        "  pos = 0\n",
        "  neu = 0\n",
        "  total = 0 \n",
        "  for item in analyzed_lst:\n",
        "    string = str(item)\n",
        "    if \"output=NEU\" in string:\n",
        "      neu += 1\n",
        "    if \"output=NEG\" in string:\n",
        "      neg += 1\n",
        "    if \"output=POS\" in string:\n",
        "      pos += 1\n",
        "    total += 1\n",
        "\n",
        "  return {\"total\" : total, \"neg\" : neg / total * 100, \\\n",
        "          \"pos\" :pos / total * 100, \"neu\" : neu / total * 100}\n",
        "  # print(\"Total: {}, Neg: {:.2f}%, Pos: {:.2f}%, and Neu: {:.2f}%\".\\\n",
        "  #   format(total, neg / total * 100, pos / total * 100, neu / total * 100))\n",
        "\n",
        "print(getFromOutput())"
      ],
      "metadata": {
        "id": "SI2GmZo9NSCk"
      },
      "execution_count": null,
      "outputs": []
    },
    {
      "cell_type": "markdown",
      "source": [
        "### 4.2.3. Totales de los resultados de las pruebas"
      ],
      "metadata": {
        "id": "h00LwlokXDXx"
      }
    },
    {
      "cell_type": "code",
      "source": [
        "def chopped_results():\n",
        "  neg = 0\n",
        "  pos = 0\n",
        "  neu = 0\n",
        "  total = 0\n",
        "  new_lst = []\n",
        "  for item in analyzed_lst:\n",
        "    mini_list = str(item).split('probas={')[1].replace('})', '').split(', ')\n",
        "    new_lst.append(mini_list)\n",
        "  for result in new_lst:\n",
        "    for item in result:\n",
        "      result = str(item).split(' ')\n",
        "      if \"NEU\" in result[0]:\n",
        "        neu += float(result[1])\n",
        "      if \"NEG\" in result[0]:\n",
        "        neg += float(result[1])\n",
        "      if \"POS\" in result[0]:\n",
        "        pos += float(result[1])\n",
        "    total += 1\n",
        "  return {\"total\" : total, \"neg\" : neg / total * 100, \\\n",
        "          \"pos\" :pos / total * 100, \"neu\" : neu / total * 100}\n",
        "  # print(\"Total: {}, Neg: {:.2f}%, Pos: {:.2f}%, and Neu: {:.2f}%\".\\\n",
        "  #   format(total, neg / total * 100, pos / total * 100, neu / total * 100))\n",
        "\n",
        "print(chopped_results())\n"
      ],
      "metadata": {
        "id": "CYWfbYQ-NR1k"
      },
      "execution_count": null,
      "outputs": []
    },
    {
      "cell_type": "markdown",
      "source": [
        "### 4.2.4. Gráfica a partir del resultado"
      ],
      "metadata": {
        "id": "_QitrJunioBa"
      }
    },
    {
      "cell_type": "code",
      "source": [
        "import pandas as pd\n",
        "import matplotlib.pyplot as plt\n",
        "\n",
        "# Ejemplo de DataFrame con datos en porcentajes\n",
        "results = chopped_results()\n",
        "df = pd.DataFrame({'Sentiment': ['Neg', 'Pos', 'Neu'],\n",
        "    'Percentage': [results['neg'], results['pos'], results['neu']]})\n",
        "\n",
        "# Crear el gráfico de pastel\n",
        "ax = df.plot(kind='pie', y='Percentage', labels=df['Sentiment'],\n",
        "    autopct='%1.1f%%', legend=None)\n",
        "\n",
        "# Agregar título al gráfico\n",
        "ax.set_title('Sentiment Analysis Results')\n",
        "\n",
        "# Crear el gráfico de barras\n",
        "bx = df.plot(kind='bar', x='Sentiment', y='Percentage')\n",
        "\n",
        "# Agregar título al gráfico\n",
        "bx.set_xlabel('Sentiment')\n",
        "bx.set_ylabel('Percentage')\n",
        "bx.set_title('Sentiment Analysis Results')\n",
        "\n",
        "# Mostrar el gráfico\n",
        "plt.show()"
      ],
      "metadata": {
        "id": "FqBB2fP9ilJ6"
      },
      "execution_count": null,
      "outputs": []
    }
  ]
}